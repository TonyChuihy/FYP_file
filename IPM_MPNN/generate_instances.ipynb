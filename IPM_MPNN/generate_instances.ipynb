{
 "cells": [
  {
   "cell_type": "code",
   "execution_count": 1,
   "id": "86067865-0742-4b44-a0e2-bc87447a977a",
   "metadata": {
    "is_executing": true,
    "tags": []
   },
   "outputs": [],
   "source": [
    "%load_ext autoreload\n",
    "%autoreload 2"
   ]
  },
  {
   "cell_type": "code",
   "execution_count": 3,
   "id": "d28ae5d8",
   "metadata": {},
   "outputs": [
    {
     "name": "stdout",
     "output_type": "stream",
     "text": [
      "python: /home/tony/miniconda3/envs/ipmgnn/bin/python\n",
      "torch: 2.0.0\n",
      "cuda_available: True\n",
      "cuda_device_count: 1\n",
      "current device: 0 name: NVIDIA GeForce RTX 3060 Laptop GPU\n"
     ]
    }
   ],
   "source": [
    "import torch, sys, os\n",
    "print(\"python:\", sys.executable)\n",
    "print(\"torch:\", torch.__version__)\n",
    "print(\"cuda_available:\", torch.cuda.is_available())\n",
    "print(\"cuda_device_count:\", torch.cuda.device_count())\n",
    "if torch.cuda.is_available():\n",
    "    print(\"current device:\", torch.cuda.current_device(), \"name:\", torch.cuda.get_device_name(0))"
   ]
  },
  {
   "cell_type": "code",
   "execution_count": 3,
   "id": "2236bb58",
   "metadata": {},
   "outputs": [],
   "source": [
    "import torch\n",
    "device = torch.device(\"cuda\" if torch.cuda.is_available() else \"cpu\")\n",
    "# Example usage:\n",
    "# x = torch.randn(3,3)\n",
    "# x = x.to(device)\n",
    "# For a model:\n",
    "# model = MyModel(...)\n",
    "# model.to(device)\n",
    "# When creating tensors with torch.from_numpy(...), then call .to(device) as in the notebook:\n",
    "# torch.from_numpy(A).to(torch.float).to(device)"
   ]
  },
  {
   "cell_type": "code",
   "execution_count": 4,
   "id": "c613b1ca-4366-4c13-b0d4-47e581195d5b",
   "metadata": {
    "tags": []
   },
   "outputs": [],
   "source": [
    "from solver.linprog import linprog\n",
    "from tqdm import tqdm\n",
    "\n",
    "import gzip\n",
    "import pickle\n",
    "import torch\n",
    "from scipy.linalg import LinAlgWarning\n",
    "from scipy.optimize._optimize import OptimizeWarning\n",
    "import warnings\n",
    "import numpy as np\n",
    "from functools import partial\n",
    "\n",
    "from pathlib import Path\n",
    "\n",
    "from generate_instances import generate_setcover, Graph, generate_indset, generate_cauctions, generate_capacited_facility_location"
   ]
  },
  {
   "cell_type": "code",
   "execution_count": 5,
   "id": "5253b78c-64f5-4b2d-b4d9-fd7107bbdebd",
   "metadata": {
    "tags": []
   },
   "outputs": [],
   "source": [
    "rng = np.random.RandomState(1)"
   ]
  },
  {
   "cell_type": "code",
   "execution_count": 6,
   "id": "cf0211f2-c698-4e9e-8cb6-5649c22f7c23",
   "metadata": {
    "tags": []
   },
   "outputs": [],
   "source": [
    "bounds = (0., 1.)"
   ]
  },
  {
   "cell_type": "code",
   "execution_count": 7,
   "id": "ca5baa7a-a9fa-41b9-aa05-755f29c333b1",
   "metadata": {
    "tags": []
   },
   "outputs": [
    {
     "data": {
      "text/plain": [
       "'/home/tony/FYP_file/IPM_MPNN/d/fac6'"
      ]
     },
     "execution_count": 7,
     "metadata": {},
     "output_type": "execute_result"
    }
   ],
   "source": [
    "root = os.getcwd() + '/d/fac6'\n",
    "root"
   ]
  },
  {
   "cell_type": "code",
   "execution_count": 8,
   "id": "e8afd782-6558-4de5-8bb5-4beeef8cddee",
   "metadata": {},
   "outputs": [
    {
     "name": "stdout",
     "output_type": "stream",
     "text": [
      "os.getcwd(): /home/tony/FYP_file/IPM_MPNN\n"
     ]
    }
   ],
   "source": [
    "!mkdir -p /home/tony/FYP_file/IPM_MPNN/d/fac6\n",
    "# !mkdir /mnt/d/fac6/raw\n",
    "# !mkdir /mnt/d/fac6/processed_1restarts_0lap_8steps_upper_1.0\n",
    "print(\"os.getcwd():\", os.getcwd())"
   ]
  },
  {
   "cell_type": "markdown",
   "id": "22b2dfbe-1ca0-4fda-b22f-b356c25a8e9b",
   "metadata": {},
   "source": [
    "### Setcover"
   ]
  },
  {
   "cell_type": "code",
   "execution_count": 9,
   "id": "98b27565-ab4d-4872-8798-0050a16cfaa2",
   "metadata": {
    "tags": []
   },
   "outputs": [],
   "source": [
    "density=0.01\n",
    "nrows_l = 700\n",
    "nrows_u = 701\n",
    "ncols_l = 700\n",
    "ncols_u = 701\n",
    "\n",
    "surrogate_gen = partial(generate_setcover, nrows_l=nrows_l, nrows_u=nrows_u, ncols_l=ncols_l, ncols_u=ncols_u, density=density, rng=rng)"
   ]
  },
  {
   "cell_type": "markdown",
   "id": "8feba305-fe78-4c36-9e05-c9925320ce8f",
   "metadata": {},
   "source": [
    "### Indset"
   ]
  },
  {
   "cell_type": "code",
   "execution_count": 10,
   "id": "d011cf5b-7a78-4eee-bec4-4c95e823787f",
   "metadata": {},
   "outputs": [],
   "source": [
    "def surrogate_gen():\n",
    "    # nnodes = rng.randint(10, 20)\n",
    "    # nnodes = rng.randint(500, 700)\n",
    "    nnodes = 550\n",
    "    graph = Graph.barabasi_albert(number_of_nodes=nnodes, affinity=2, random=rng)\n",
    "    A, b, c = generate_indset(graph=graph, nnodes=nnodes)\n",
    "    return A, b, c"
   ]
  },
  {
   "cell_type": "markdown",
   "id": "5b10bae9-954f-4f8d-891b-c11ef61e61d2",
   "metadata": {},
   "source": [
    "### Cauctions"
   ]
  },
  {
   "cell_type": "code",
   "execution_count": 11,
   "id": "409d4b02-d2c1-4765-9137-e840fd511ad0",
   "metadata": {},
   "outputs": [],
   "source": [
    "def surrogate_gen():\n",
    "    # n_items=rng.randint(50, 80)\n",
    "    # n_bids=rng.randint(50, 80)\n",
    "    n_items = 500\n",
    "    n_bids = 600\n",
    "    A, b, c = generate_cauctions(n_items=n_items, n_bids=n_bids, rng=rng, min_value=0.01, max_value=0.1)\n",
    "    return A, b, c"
   ]
  },
  {
   "cell_type": "markdown",
   "id": "70957397-d822-4a34-b05d-8eeeba50214a",
   "metadata": {},
   "source": [
    "### Facilities"
   ]
  },
  {
   "cell_type": "code",
   "execution_count": 12,
   "id": "54e45f1f-07de-42ac-8d2d-2c1ac4c5f8d8",
   "metadata": {},
   "outputs": [],
   "source": [
    "def surrogate_gen():\n",
    "    n_customers = 25\n",
    "    n_facilities = 35\n",
    "    ratio = 5\n",
    "    A, b, c = generate_capacited_facility_location(n_customers=n_customers, n_facilities=n_facilities, ratio=ratio, rng=rng)\n",
    "    return A, b, c"
   ]
  },
  {
   "cell_type": "markdown",
   "id": "4ca1c9c7-11ba-4d53-80a3-1d6b3e8cfc53",
   "metadata": {},
   "source": [
    "## create"
   ]
  },
  {
   "cell_type": "code",
   "execution_count": null,
   "id": "f427d670-75f4-4085-9c67-2631b013ba9e",
   "metadata": {},
   "outputs": [
    {
     "name": "stderr",
     "output_type": "stream",
     "text": [
      "  0%|          | 34/15000 [01:35<11:41:32,  2.81s/it]\n"
     ]
    },
    {
     "ename": "KeyboardInterrupt",
     "evalue": "",
     "output_type": "error",
     "traceback": [
      "\u001b[0;31m---------------------------------------------------------------------------\u001b[0m",
      "\u001b[0;31mKeyboardInterrupt\u001b[0m                         Traceback (most recent call last)",
      "Cell \u001b[0;32mIn[15], line 19\u001b[0m\n\u001b[1;32m     17\u001b[0m     A_ub \u001b[38;5;241m=\u001b[39m A\n\u001b[1;32m     18\u001b[0m     b_ub \u001b[38;5;241m=\u001b[39m b\n\u001b[0;32m---> 19\u001b[0m     res \u001b[38;5;241m=\u001b[39m \u001b[43mlinprog\u001b[49m\u001b[43m(\u001b[49m\u001b[43mc\u001b[49m\u001b[43m,\u001b[49m\u001b[43m \u001b[49m\n\u001b[1;32m     20\u001b[0m \u001b[43m            \u001b[49m\u001b[43mA_ub\u001b[49m\u001b[38;5;241;43m=\u001b[39;49m\u001b[43mA_ub\u001b[49m\u001b[43m,\u001b[49m\n\u001b[1;32m     21\u001b[0m \u001b[43m            \u001b[49m\u001b[43mb_ub\u001b[49m\u001b[38;5;241;43m=\u001b[39;49m\u001b[43mb_ub\u001b[49m\u001b[43m,\u001b[49m\n\u001b[1;32m     22\u001b[0m \u001b[43m            \u001b[49m\u001b[43mA_eq\u001b[49m\u001b[38;5;241;43m=\u001b[39;49m\u001b[43mA_eq\u001b[49m\u001b[43m,\u001b[49m\u001b[43m \u001b[49m\u001b[43mb_eq\u001b[49m\u001b[38;5;241;43m=\u001b[39;49m\u001b[43mb_eq\u001b[49m\u001b[43m,\u001b[49m\u001b[43m \u001b[49m\u001b[43mbounds\u001b[49m\u001b[38;5;241;43m=\u001b[39;49m\u001b[43mbounds\u001b[49m\u001b[43m,\u001b[49m\u001b[43m \u001b[49m\u001b[43mmethod\u001b[49m\u001b[38;5;241;43m=\u001b[39;49m\u001b[38;5;124;43m'\u001b[39;49m\u001b[38;5;124;43minterior-point\u001b[39;49m\u001b[38;5;124;43m'\u001b[39;49m\u001b[43m)\u001b[49m\n\u001b[1;32m     23\u001b[0m \u001b[38;5;28;01mexcept\u001b[39;00m (LinAlgWarning, OptimizeWarning, \u001b[38;5;167;01mAssertionError\u001b[39;00m):\n\u001b[1;32m     24\u001b[0m     fail_cnt \u001b[38;5;241m+\u001b[39m\u001b[38;5;241m=\u001b[39m \u001b[38;5;241m1\u001b[39m\n",
      "File \u001b[0;32m~/FYP_file/IPM_MPNN/solver/linprog.py:46\u001b[0m, in \u001b[0;36mlinprog\u001b[0;34m(c, A_ub, b_ub, A_eq, b_eq, bounds, method, callback, options, x0, integrality)\u001b[0m\n\u001b[1;32m     43\u001b[0m         postsolve_args \u001b[38;5;241m=\u001b[39m postsolve_args[:\u001b[38;5;241m-\u001b[39m\u001b[38;5;241m2\u001b[39m] \u001b[38;5;241m+\u001b[39m (C, b_scale)\n\u001b[1;32m     45\u001b[0m     \u001b[38;5;28;01mif\u001b[39;00m meth \u001b[38;5;241m==\u001b[39m \u001b[38;5;124m'\u001b[39m\u001b[38;5;124minterior-point\u001b[39m\u001b[38;5;124m'\u001b[39m:\n\u001b[0;32m---> 46\u001b[0m         x, status, message, iteration, callback_outputs \u001b[38;5;241m=\u001b[39m \u001b[43m_linprog_ip\u001b[49m\u001b[43m(\u001b[49m\n\u001b[1;32m     47\u001b[0m \u001b[43m            \u001b[49m\u001b[43mc\u001b[49m\u001b[43m,\u001b[49m\u001b[43m \u001b[49m\u001b[43mc0\u001b[49m\u001b[38;5;241;43m=\u001b[39;49m\u001b[43mc0\u001b[49m\u001b[43m,\u001b[49m\u001b[43m \u001b[49m\u001b[43mA\u001b[49m\u001b[38;5;241;43m=\u001b[39;49m\u001b[43mA\u001b[49m\u001b[43m,\u001b[49m\u001b[43m \u001b[49m\u001b[43mb\u001b[49m\u001b[38;5;241;43m=\u001b[39;49m\u001b[43mb\u001b[49m\u001b[43m,\u001b[49m\u001b[43m \u001b[49m\u001b[43mcallback\u001b[49m\u001b[38;5;241;43m=\u001b[39;49m\u001b[43mcallback\u001b[49m\u001b[43m,\u001b[49m\n\u001b[1;32m     48\u001b[0m \u001b[43m            \u001b[49m\u001b[43mpostsolve_args\u001b[49m\u001b[38;5;241;43m=\u001b[39;49m\u001b[43mpostsolve_args\u001b[49m\u001b[43m,\u001b[49m\u001b[43m \u001b[49m\u001b[38;5;241;43m*\u001b[39;49m\u001b[38;5;241;43m*\u001b[39;49m\u001b[43msolver_options\u001b[49m\u001b[43m)\u001b[49m\n\u001b[1;32m     50\u001b[0m \u001b[38;5;66;03m# Eliminate artificial variables, re-introduce presolved variables, etc.\u001b[39;00m\n\u001b[1;32m     52\u001b[0m x, fun, slack, con \u001b[38;5;241m=\u001b[39m _postsolve(x, postsolve_args, complete)\n",
      "File \u001b[0;32m~/FYP_file/IPM_MPNN/solver/linprog_ip.py:238\u001b[0m, in \u001b[0;36m_linprog_ip\u001b[0;34m(c, c0, A, b, callback, postsolve_args, maxiter, tol, disp, alpha0, beta, sparse, lstsq, sym_pos, cholesky, pc, ip, permc_spec, **unknown_options)\u001b[0m\n\u001b[1;32m    231\u001b[0m     \u001b[38;5;28;01mraise\u001b[39;00m \u001b[38;5;167;01mValueError\u001b[39;00m(\n\u001b[1;32m    232\u001b[0m         \u001b[38;5;124m\"\u001b[39m\u001b[38;5;124mInvalid option combination \u001b[39m\u001b[38;5;124m'\u001b[39m\u001b[38;5;124msym_pos\u001b[39m\u001b[38;5;124m'\u001b[39m\u001b[38;5;124m:False \u001b[39m\u001b[38;5;124m\"\u001b[39m\n\u001b[1;32m    233\u001b[0m         \u001b[38;5;124m\"\u001b[39m\u001b[38;5;124mand \u001b[39m\u001b[38;5;124m'\u001b[39m\u001b[38;5;124mcholesky\u001b[39m\u001b[38;5;124m'\u001b[39m\u001b[38;5;124m:True: Cholesky decomposition is only possible \u001b[39m\u001b[38;5;124m\"\u001b[39m\n\u001b[1;32m    234\u001b[0m         \u001b[38;5;124m\"\u001b[39m\u001b[38;5;124mfor symmetric positive definite matrices.\u001b[39m\u001b[38;5;124m\"\u001b[39m)\n\u001b[1;32m    236\u001b[0m cholesky \u001b[38;5;241m=\u001b[39m cholesky \u001b[38;5;129;01mor\u001b[39;00m (cholesky \u001b[38;5;129;01mis\u001b[39;00m \u001b[38;5;28;01mNone\u001b[39;00m \u001b[38;5;129;01mand\u001b[39;00m sym_pos \u001b[38;5;129;01mand\u001b[39;00m \u001b[38;5;129;01mnot\u001b[39;00m lstsq)\n\u001b[0;32m--> 238\u001b[0m x, status, message, iteration, callback_outputs \u001b[38;5;241m=\u001b[39m \u001b[43m_ip_hsd\u001b[49m\u001b[43m(\u001b[49m\u001b[43mA\u001b[49m\u001b[43m,\u001b[49m\u001b[43m \u001b[49m\u001b[43mb\u001b[49m\u001b[43m,\u001b[49m\u001b[43m \u001b[49m\u001b[43mc\u001b[49m\u001b[43m,\u001b[49m\u001b[43m \u001b[49m\u001b[43mc0\u001b[49m\u001b[43m,\u001b[49m\u001b[43m \u001b[49m\u001b[43malpha0\u001b[49m\u001b[43m,\u001b[49m\u001b[43m \u001b[49m\u001b[43mbeta\u001b[49m\u001b[43m,\u001b[49m\n\u001b[1;32m    239\u001b[0m \u001b[43m                                                          \u001b[49m\u001b[43mmaxiter\u001b[49m\u001b[43m,\u001b[49m\u001b[43m \u001b[49m\u001b[43mdisp\u001b[49m\u001b[43m,\u001b[49m\u001b[43m \u001b[49m\u001b[43mtol\u001b[49m\u001b[43m,\u001b[49m\u001b[43m \u001b[49m\u001b[43msparse\u001b[49m\u001b[43m,\u001b[49m\n\u001b[1;32m    240\u001b[0m \u001b[43m                                                          \u001b[49m\u001b[43mlstsq\u001b[49m\u001b[43m,\u001b[49m\u001b[43m \u001b[49m\u001b[43msym_pos\u001b[49m\u001b[43m,\u001b[49m\u001b[43m \u001b[49m\u001b[43mcholesky\u001b[49m\u001b[43m,\u001b[49m\n\u001b[1;32m    241\u001b[0m \u001b[43m                                                          \u001b[49m\u001b[43mpc\u001b[49m\u001b[43m,\u001b[49m\u001b[43m \u001b[49m\u001b[43mip\u001b[49m\u001b[43m,\u001b[49m\u001b[43m \u001b[49m\u001b[43mpermc_spec\u001b[49m\u001b[43m,\u001b[49m\n\u001b[1;32m    242\u001b[0m \u001b[43m                                                          \u001b[49m\u001b[43mcallback\u001b[49m\u001b[43m,\u001b[49m\n\u001b[1;32m    243\u001b[0m \u001b[43m                                                          \u001b[49m\u001b[43mpostsolve_args\u001b[49m\u001b[43m)\u001b[49m\n\u001b[1;32m    245\u001b[0m \u001b[38;5;28;01mreturn\u001b[39;00m x, status, message, iteration, callback_outputs\n",
      "File \u001b[0;32m~/FYP_file/IPM_MPNN/solver/linprog_ip.py:124\u001b[0m, in \u001b[0;36m_ip_hsd\u001b[0;34m(A, b, c, c0, alpha0, beta, maxiter, disp, tol, sparse, lstsq, sym_pos, cholesky, pc, ip, permc_spec, callback, postsolve_args)\u001b[0m\n\u001b[1;32m    120\u001b[0m         \u001b[38;5;28;01mreturn\u001b[39;00m \u001b[38;5;241m1\u001b[39m \u001b[38;5;241m-\u001b[39m g\n\u001b[1;32m    122\u001b[0m \u001b[38;5;28;01mtry\u001b[39;00m:\n\u001b[1;32m    123\u001b[0m     \u001b[38;5;66;03m# Solve [4] 8.6 and 8.7/8.13/8.23\u001b[39;00m\n\u001b[0;32m--> 124\u001b[0m     d_x, d_y, d_z, d_tau, d_kappa \u001b[38;5;241m=\u001b[39m \u001b[43m_get_delta\u001b[49m\u001b[43m(\u001b[49m\n\u001b[1;32m    125\u001b[0m \u001b[43m        \u001b[49m\u001b[43mA\u001b[49m\u001b[43m,\u001b[49m\u001b[43m \u001b[49m\u001b[43mb\u001b[49m\u001b[43m,\u001b[49m\u001b[43m \u001b[49m\u001b[43mc\u001b[49m\u001b[43m,\u001b[49m\u001b[43m \u001b[49m\u001b[43mx\u001b[49m\u001b[43m,\u001b[49m\u001b[43m \u001b[49m\u001b[43my\u001b[49m\u001b[43m,\u001b[49m\u001b[43m \u001b[49m\u001b[43mz\u001b[49m\u001b[43m,\u001b[49m\u001b[43m \u001b[49m\u001b[43mtau\u001b[49m\u001b[43m,\u001b[49m\u001b[43m \u001b[49m\u001b[43mkappa\u001b[49m\u001b[43m,\u001b[49m\u001b[43m \u001b[49m\u001b[43mgamma\u001b[49m\u001b[43m,\u001b[49m\u001b[43m \u001b[49m\u001b[43meta\u001b[49m\u001b[43m,\u001b[49m\n\u001b[1;32m    126\u001b[0m \u001b[43m        \u001b[49m\u001b[43msparse\u001b[49m\u001b[43m,\u001b[49m\u001b[43m \u001b[49m\u001b[43mlstsq\u001b[49m\u001b[43m,\u001b[49m\u001b[43m \u001b[49m\u001b[43msym_pos\u001b[49m\u001b[43m,\u001b[49m\u001b[43m \u001b[49m\u001b[43mcholesky\u001b[49m\u001b[43m,\u001b[49m\u001b[43m \u001b[49m\u001b[43mpc\u001b[49m\u001b[43m,\u001b[49m\u001b[43m \u001b[49m\u001b[43mip\u001b[49m\u001b[43m,\u001b[49m\u001b[43m \u001b[49m\u001b[43mpermc_spec\u001b[49m\u001b[43m)\u001b[49m\n\u001b[1;32m    128\u001b[0m     \u001b[38;5;28;01mif\u001b[39;00m ip:  \u001b[38;5;66;03m# initial point\u001b[39;00m\n\u001b[1;32m    129\u001b[0m         \u001b[38;5;66;03m# [4] 4.4\u001b[39;00m\n\u001b[1;32m    130\u001b[0m         \u001b[38;5;66;03m# Formula after 8.23 takes a full step regardless if this will\u001b[39;00m\n\u001b[1;32m    131\u001b[0m         \u001b[38;5;66;03m# take it negative\u001b[39;00m\n\u001b[1;32m    132\u001b[0m         alpha \u001b[38;5;241m=\u001b[39m \u001b[38;5;241m1.0\u001b[39m\n",
      "File \u001b[0;32m~/miniconda3/envs/ipmgnn/lib/python3.10/site-packages/scipy/optimize/_linprog_ip.py:218\u001b[0m, in \u001b[0;36m_get_delta\u001b[0;34m(A, b, c, x, y, z, tau, kappa, gamma, eta, sparse, lstsq, sym_pos, cholesky, pc, ip, permc_spec)\u001b[0m\n\u001b[1;32m    216\u001b[0m \u001b[38;5;28;01melse\u001b[39;00m:\n\u001b[1;32m    217\u001b[0m     M \u001b[38;5;241m=\u001b[39m A\u001b[38;5;241m.\u001b[39mdot(Dinv\u001b[38;5;241m.\u001b[39mreshape(\u001b[38;5;241m-\u001b[39m\u001b[38;5;241m1\u001b[39m, \u001b[38;5;241m1\u001b[39m) \u001b[38;5;241m*\u001b[39m A\u001b[38;5;241m.\u001b[39mT)\n\u001b[0;32m--> 218\u001b[0m solve \u001b[38;5;241m=\u001b[39m \u001b[43m_get_solver\u001b[49m\u001b[43m(\u001b[49m\u001b[43mM\u001b[49m\u001b[43m,\u001b[49m\u001b[43m \u001b[49m\u001b[43msparse\u001b[49m\u001b[43m,\u001b[49m\u001b[43m \u001b[49m\u001b[43mlstsq\u001b[49m\u001b[43m,\u001b[49m\u001b[43m \u001b[49m\u001b[43msym_pos\u001b[49m\u001b[43m,\u001b[49m\u001b[43m \u001b[49m\u001b[43mcholesky\u001b[49m\u001b[43m,\u001b[49m\u001b[43m \u001b[49m\u001b[43mpermc_spec\u001b[49m\u001b[43m)\u001b[49m\n\u001b[1;32m    220\u001b[0m \u001b[38;5;66;03m# pc: \"predictor-corrector\" [4] Section 4.1\u001b[39;00m\n\u001b[1;32m    221\u001b[0m \u001b[38;5;66;03m# In development this option could be turned off\u001b[39;00m\n\u001b[1;32m    222\u001b[0m \u001b[38;5;66;03m# but it always seems to improve performance substantially\u001b[39;00m\n\u001b[1;32m    223\u001b[0m n_corrections \u001b[38;5;241m=\u001b[39m \u001b[38;5;241m1\u001b[39m \u001b[38;5;28;01mif\u001b[39;00m pc \u001b[38;5;28;01melse\u001b[39;00m \u001b[38;5;241m0\u001b[39m\n",
      "File \u001b[0;32m~/miniconda3/envs/ipmgnn/lib/python3.10/site-packages/scipy/optimize/_linprog_ip.py:109\u001b[0m, in \u001b[0;36m_get_solver\u001b[0;34m(M, sparse, lstsq, sym_pos, cholesky, permc_spec)\u001b[0m\n\u001b[1;32m    107\u001b[0m         \u001b[38;5;28;01mreturn\u001b[39;00m sp\u001b[38;5;241m.\u001b[39mlinalg\u001b[38;5;241m.\u001b[39mlstsq(M, r)[\u001b[38;5;241m0\u001b[39m]\n\u001b[1;32m    108\u001b[0m \u001b[38;5;28;01melif\u001b[39;00m cholesky:\n\u001b[0;32m--> 109\u001b[0m     L \u001b[38;5;241m=\u001b[39m \u001b[43msp\u001b[49m\u001b[38;5;241;43m.\u001b[39;49m\u001b[43mlinalg\u001b[49m\u001b[38;5;241;43m.\u001b[39;49m\u001b[43mcho_factor\u001b[49m\u001b[43m(\u001b[49m\u001b[43mM\u001b[49m\u001b[43m)\u001b[49m\n\u001b[1;32m    111\u001b[0m     \u001b[38;5;28;01mdef\u001b[39;00m\u001b[38;5;250m \u001b[39m\u001b[38;5;21msolve\u001b[39m(r):\n\u001b[1;32m    112\u001b[0m         \u001b[38;5;28;01mreturn\u001b[39;00m sp\u001b[38;5;241m.\u001b[39mlinalg\u001b[38;5;241m.\u001b[39mcho_solve(L, r)\n",
      "File \u001b[0;32m~/miniconda3/envs/ipmgnn/lib/python3.10/site-packages/scipy/linalg/_decomp_cholesky.py:154\u001b[0m, in \u001b[0;36mcho_factor\u001b[0;34m(a, lower, overwrite_a, check_finite)\u001b[0m\n\u001b[1;32m     94\u001b[0m \u001b[38;5;28;01mdef\u001b[39;00m\u001b[38;5;250m \u001b[39m\u001b[38;5;21mcho_factor\u001b[39m(a, lower\u001b[38;5;241m=\u001b[39m\u001b[38;5;28;01mFalse\u001b[39;00m, overwrite_a\u001b[38;5;241m=\u001b[39m\u001b[38;5;28;01mFalse\u001b[39;00m, check_finite\u001b[38;5;241m=\u001b[39m\u001b[38;5;28;01mTrue\u001b[39;00m):\n\u001b[1;32m     95\u001b[0m \u001b[38;5;250m    \u001b[39m\u001b[38;5;124;03m\"\"\"\u001b[39;00m\n\u001b[1;32m     96\u001b[0m \u001b[38;5;124;03m    Compute the Cholesky decomposition of a matrix, to use in cho_solve\u001b[39;00m\n\u001b[1;32m     97\u001b[0m \n\u001b[0;32m   (...)\u001b[0m\n\u001b[1;32m    152\u001b[0m \n\u001b[1;32m    153\u001b[0m \u001b[38;5;124;03m    \"\"\"\u001b[39;00m\n\u001b[0;32m--> 154\u001b[0m     c, lower \u001b[38;5;241m=\u001b[39m \u001b[43m_cholesky\u001b[49m\u001b[43m(\u001b[49m\u001b[43ma\u001b[49m\u001b[43m,\u001b[49m\u001b[43m \u001b[49m\u001b[43mlower\u001b[49m\u001b[38;5;241;43m=\u001b[39;49m\u001b[43mlower\u001b[49m\u001b[43m,\u001b[49m\u001b[43m \u001b[49m\u001b[43moverwrite_a\u001b[49m\u001b[38;5;241;43m=\u001b[39;49m\u001b[43moverwrite_a\u001b[49m\u001b[43m,\u001b[49m\u001b[43m \u001b[49m\u001b[43mclean\u001b[49m\u001b[38;5;241;43m=\u001b[39;49m\u001b[38;5;28;43;01mFalse\u001b[39;49;00m\u001b[43m,\u001b[49m\n\u001b[1;32m    155\u001b[0m \u001b[43m                         \u001b[49m\u001b[43mcheck_finite\u001b[49m\u001b[38;5;241;43m=\u001b[39;49m\u001b[43mcheck_finite\u001b[49m\u001b[43m)\u001b[49m\n\u001b[1;32m    156\u001b[0m     \u001b[38;5;28;01mreturn\u001b[39;00m c, lower\n",
      "File \u001b[0;32m~/miniconda3/envs/ipmgnn/lib/python3.10/site-packages/scipy/linalg/_decomp_cholesky.py:35\u001b[0m, in \u001b[0;36m_cholesky\u001b[0;34m(a, lower, overwrite_a, clean, check_finite)\u001b[0m\n\u001b[1;32m     33\u001b[0m overwrite_a \u001b[38;5;241m=\u001b[39m overwrite_a \u001b[38;5;129;01mor\u001b[39;00m _datacopied(a1, a)\n\u001b[1;32m     34\u001b[0m potrf, \u001b[38;5;241m=\u001b[39m get_lapack_funcs((\u001b[38;5;124m'\u001b[39m\u001b[38;5;124mpotrf\u001b[39m\u001b[38;5;124m'\u001b[39m,), (a1,))\n\u001b[0;32m---> 35\u001b[0m c, info \u001b[38;5;241m=\u001b[39m \u001b[43mpotrf\u001b[49m\u001b[43m(\u001b[49m\u001b[43ma1\u001b[49m\u001b[43m,\u001b[49m\u001b[43m \u001b[49m\u001b[43mlower\u001b[49m\u001b[38;5;241;43m=\u001b[39;49m\u001b[43mlower\u001b[49m\u001b[43m,\u001b[49m\u001b[43m \u001b[49m\u001b[43moverwrite_a\u001b[49m\u001b[38;5;241;43m=\u001b[39;49m\u001b[43moverwrite_a\u001b[49m\u001b[43m,\u001b[49m\u001b[43m \u001b[49m\u001b[43mclean\u001b[49m\u001b[38;5;241;43m=\u001b[39;49m\u001b[43mclean\u001b[49m\u001b[43m)\u001b[49m\n\u001b[1;32m     36\u001b[0m \u001b[38;5;28;01mif\u001b[39;00m info \u001b[38;5;241m>\u001b[39m \u001b[38;5;241m0\u001b[39m:\n\u001b[1;32m     37\u001b[0m     \u001b[38;5;28;01mraise\u001b[39;00m LinAlgError(\u001b[38;5;124m\"\u001b[39m\u001b[38;5;132;01m%d\u001b[39;00m\u001b[38;5;124m-th leading minor of the array is not positive \u001b[39m\u001b[38;5;124m\"\u001b[39m\n\u001b[1;32m     38\u001b[0m                       \u001b[38;5;124m\"\u001b[39m\u001b[38;5;124mdefinite\u001b[39m\u001b[38;5;124m\"\u001b[39m \u001b[38;5;241m%\u001b[39m info)\n",
      "\u001b[0;31mKeyboardInterrupt\u001b[0m: "
     ]
    },
    {
     "ename": "",
     "evalue": "",
     "output_type": "error",
     "traceback": [
      "\u001b[1;31mThe Kernel crashed while executing code in the current cell or a previous cell. \n",
      "\u001b[1;31mPlease review the code in the cell(s) to identify a possible cause of the failure. \n",
      "\u001b[1;31mClick <a href='https://aka.ms/vscodeJupyterKernelCrash'>here</a> for more info. \n",
      "\u001b[1;31mView Jupyter <a href='command:jupyter.viewOutput'>log</a> for further details."
     ]
    }
   ],
   "source": [
    "warnings.filterwarnings(\"error\")\n",
    "\n",
    "ips = []\n",
    "pkg_idx = 0\n",
    "success_cnt = 0\n",
    "fail_cnt = 0\n",
    "\n",
    "max_iter = 15000\n",
    "num = 1000\n",
    "\n",
    "for i in tqdm(range(max_iter)):\n",
    "    A, b, c = surrogate_gen()\n",
    "    \n",
    "    try:\n",
    "        A_eq = None\n",
    "        b_eq = None\n",
    "        A_ub = A\n",
    "        b_ub = b\n",
    "        res = linprog(c, \n",
    "                A_ub=A_ub,\n",
    "                b_ub=b_ub,\n",
    "                A_eq=A_eq, b_eq=b_eq, bounds=bounds, method='interior-point')\n",
    "    except (LinAlgWarning, OptimizeWarning, AssertionError):\n",
    "        fail_cnt += 1\n",
    "        continue\n",
    "    else:\n",
    "        if res.success and not np.isnan(res.fun):\n",
    "            ips.append((torch.from_numpy(A).to(torch.float).to(device), torch.from_numpy(b).to(torch.float).to(device), torch.from_numpy(c).to(torch.float).to(device)))\n",
    "            success_cnt += 1\n",
    "\n",
    "    if len(ips) >= 1000 or success_cnt == num:\n",
    "        out_path = Path(f'{root}/raw/instance_{pkg_idx}.pkl.gz')\n",
    "        out_path.parent.mkdir(parents=True, exist_ok=True)\n",
    "        with gzip.open(out_path, \"wb\") as file:\n",
    "            pickle.dump(ips, file)\n",
    "            pkg_idx += 1\n",
    "        ips = []\n",
    "\n",
    "    if success_cnt >= num:\n",
    "        break\n",
    "\n",
    "warnings.resetwarnings()"
   ]
  },
  {
   "cell_type": "code",
   "execution_count": null,
   "id": "6ac16b37-b52b-4f10-9e72-703eb8a5e5fa",
   "metadata": {},
   "outputs": [],
   "source": []
  }
 ],
 "metadata": {
  "kernelspec": {
   "display_name": "ipmgnn",
   "language": "python",
   "name": "python3"
  },
  "language_info": {
   "codemirror_mode": {
    "name": "ipython",
    "version": 3
   },
   "file_extension": ".py",
   "mimetype": "text/x-python",
   "name": "python",
   "nbconvert_exporter": "python",
   "pygments_lexer": "ipython3",
   "version": "3.10.14"
  }
 },
 "nbformat": 4,
 "nbformat_minor": 5
}
